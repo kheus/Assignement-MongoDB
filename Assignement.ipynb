{
 "cells": [
  {
   "cell_type": "markdown",
   "id": "0846c2ef",
   "metadata": {},
   "source": [
    "# Take-Home Questions: Operators and Projections\n",
    "\n",
    "## Instructions \n",
    "\n",
    "- Complete all 4 questions using Python and PyMongo.\n",
    "- Include proper error handling and comments in your code.\n",
    "- Test your solutions with the provided sample data.\n",
    "- **Use the `faker` library to generate 10,000 sample employee documents matching the structure below.**\n",
    "- Submit both your code and sample output.\n",
    "- **Submit your Jupyter notebook containing all code, generated data, and results.**\n",
    "- Explain your approach for complex queries.\n",
    "- **Upload your Jupyter notebook to a public GitHub repository and include the link in your submission.**\n",
    "- **Submit your GitHub repository link and the notebook file through the provided [Google Form submission link](https://forms.gle/FnwPBBnHhCPUGrk59).**\n",
    "\n",
    "---\n",
    "\n",
    "## Sample Employee Document\n",
    "\n",
    "```python\n",
    "{\n",
    "    \"_id\": ObjectId(\"...\"),\n",
    "    \"employee_id\": \"EMP001\",\n",
    "    \"first_name\": \"John\",\n",
    "    \"last_name\": \"Doe\", \n",
    "    \"email\": \"john.doe@company.com\",\n",
    "    \"department\": \"Engineering\",\n",
    "    \"position\": \"Senior Developer\",\n",
    "    \"salary\": 95000,\n",
    "    \"years_experience\": 8,\n",
    "    \"performance_rating\": 4.2,\n",
    "    \"skills\": [\"Python\", \"JavaScript\", \"MongoDB\", \"Docker\"],\n",
    "    \"hire_date\": ISODate(\"2020-03-15\"),\n",
    "    \"last_promotion\": ISODate(\"2022-06-01\"),\n",
    "    \"is_remote\": True,\n",
    "    \"address\": {\n",
    "        \"city\": \"San Francisco\",\n",
    "        \"state\": \"CA\",\n",
    "        \"zip_code\": \"94102\"\n",
    "    }\n",
    "}\n",
    "```\n",
    "\n",
    "---\n",
    "\n",
    "## Tasks\n",
    "\n",
    "Write Python functions using PyMongo to solve the following:\n",
    "\n",
    "1. **High Performers Query:** Find all employees with performance rating >= 4.0 **AND** salary > 80,000. Return only their name, department, salary, and performance rating.\n",
    "2. **Experience-Based Filtering:** Find employees with 5-10 years of experience (inclusive) who earn between $70,000 and $120,000. Project only essential contact information (name, email, department).\n",
    "3. **Salary Range Analysis:** Find employees whose salary is **NOT** in the range of $60,000-$100,000. Show their full name (concatenated), current salary, and years of experience.\n",
    "4. **Recent Hires:** Find employees hired in the last 2 years with performance rating > 3.5. Return custom fields showing \"full_name\", \"tenure_months\", and \"annual_salary\".\n",
    "\n",
    "---\n",
    "\n",
    "## Expected Deliverables\n",
    "\n",
    "- Python functions with proper error handling.\n",
    "- Sample output showing at least 3 results for each query.\n",
    "- Comments explaining your operator choices.\n",
    "- **Jupyter notebook file containing all code, generated data, and results.**\n",
    "- **GitHub repository link containing your notebook.**\n",
    "- **Submit your GitHub repo link and notebook file through the [Google Form submission link](https://forms.gle/your-form-link-here).**"
   ]
  },
  {
   "cell_type": "markdown",
   "id": "75a9a71f",
   "metadata": {},
   "source": [
    "## Conection to MongoDB and  gerenate 10k Employeers with Faker"
   ]
  },
  {
   "cell_type": "code",
   "execution_count": 1,
   "id": "55b08e08",
   "metadata": {},
   "outputs": [
    {
     "name": "stdout",
     "output_type": "stream",
     "text": [
      "Inserted 10000 employees\n"
     ]
    }
   ],
   "source": [
    "from pymongo import MongoClient\n",
    "from datetime import datetime, timedelta\n",
    "from bson.objectid import ObjectId\n",
    "from faker import Faker\n",
    "import random\n",
    "\n",
    "# Connexion to MongoDB\n",
    "client = MongoClient(\"mongodb://localhost:27017/\")\n",
    "db = client[\"company_db\"]\n",
    "collection = db[\"employees\"]\n",
    "\n",
    "# Initializer Faker\n",
    "fake = Faker()\n",
    "\n",
    "# List of departments, positions, and skills\n",
    "departments = [\"Engineering\", \"HR\", \"Marketing\", \"Sales\", \"Finance\", \"IT\"]\n",
    "positions = [\"Junior Developer\", \"Senior Developer\", \"Team Lead\", \"HR Manager\", \"Marketing Specialist\", \"Sales Representative\", \"Financial Analyst\", \"System Administrator\"]\n",
    "skills = [\"Python\", \"JavaScript\", \"MongoDB\", \"Docker\", \"SQL\", \"AWS\", \"Java\", \"React\", \"Node.js\"]\n",
    "\n",
    "# Generate 10,000 employees\n",
    "employees = []\n",
    "for i in range(10000):\n",
    "    hire_date = fake.date_time_between(start_date=\"-5y\", end_date=\"now\")\n",
    "    employee = {\n",
    "        \"_id\": ObjectId(),\n",
    "        \"employee_id\": f\"EMP{i+1:03d}\",\n",
    "        \"first_name\": fake.first_name(),\n",
    "        \"last_name\": fake.last_name(),\n",
    "        \"email\": fake.email(),\n",
    "        \"department\": random.choice(departments),\n",
    "        \"position\": random.choice(positions),\n",
    "        \"salary\": random.randint(50000, 150000),\n",
    "        \"years_experience\": random.randint(1, 15),\n",
    "        \"performance_rating\": round(random.uniform(2.0, 5.0), 1),\n",
    "        \"skills\": random.sample(skills, random.randint(2, 5)),\n",
    "        \"hire_date\": hire_date,\n",
    "        \"last_promotion\": hire_date + timedelta(days=random.randint(0, 730)),\n",
    "        \"is_remote\": random.choice([True, False]),\n",
    "        \"address\": {\n",
    "            \"city\": fake.city(),\n",
    "            \"state\": random.choice([\"CA\", \"NY\", \"TX\", \"MA\"]),\n",
    "            \"zip_code\": fake.zipcode()\n",
    "        }\n",
    "    }\n",
    "    employees.append(employee)\n",
    "\n",
    "# Insert the data\n",
    "result = collection.insert_many(employees)\n",
    "print(f\"Inserted {len(result.inserted_ids)} employees\")"
   ]
  },
  {
   "cell_type": "markdown",
   "id": "96669cac",
   "metadata": {},
   "source": [
    "## Task 1 : High Performers Query"
   ]
  },
  {
   "cell_type": "code",
   "execution_count": 2,
   "id": "9b5f406f",
   "metadata": {},
   "outputs": [
    {
     "name": "stdout",
     "output_type": "stream",
     "text": [
      "{'first_name': 'Troy', 'last_name': 'Holmes', 'department': 'HR', 'salary': 130687, 'performance_rating': 4.5}\n",
      "{'first_name': 'Kristen', 'last_name': 'Sanchez', 'department': 'Finance', 'salary': 88870, 'performance_rating': 4.0}\n",
      "{'first_name': 'Aaron', 'last_name': 'Ray', 'department': 'Engineering', 'salary': 124024, 'performance_rating': 4.8}\n"
     ]
    }
   ],
   "source": [
    "from pymongo import MongoClient\n",
    "\n",
    "client = MongoClient(\"mongodb://localhost:27017/\")\n",
    "db = client[\"company_db\"]\n",
    "collection = db[\"employees\"]\n",
    "\n",
    "def high_performers_query():\n",
    "    try:\n",
    "        query = {\n",
    "            \"$and\": [\n",
    "                {\"performance_rating\": {\"$gte\": 4.0}},\n",
    "                {\"salary\": {\"$gt\": 80000}}\n",
    "            ]\n",
    "        }\n",
    "        projection = {\"_id\": 0, \"first_name\": 1, \"last_name\": 1, \"department\": 1, \"salary\": 1, \"performance_rating\": 1}\n",
    "        result = collection.find(query, projection).limit(3)  # Limiter à 3 résultats pour l'exemple\n",
    "        for doc in result:\n",
    "            print(doc)\n",
    "    except Exception as e:\n",
    "        print(f\"Error: {e}\")\n",
    "\n",
    "high_performers_query()"
   ]
  },
  {
   "cell_type": "markdown",
   "id": "43bcfc1a",
   "metadata": {},
   "source": [
    "## Task 2 : Experience-Based Filtering"
   ]
  },
  {
   "cell_type": "code",
   "execution_count": 3,
   "id": "97f69cfd",
   "metadata": {},
   "outputs": [
    {
     "name": "stdout",
     "output_type": "stream",
     "text": [
      "{'first_name': 'Micheal', 'last_name': 'Smith', 'email': 'johnnysmith@example.org', 'department': 'IT'}\n",
      "{'first_name': 'Kristen', 'last_name': 'Sanchez', 'email': 'robertglenn@example.net', 'department': 'Finance'}\n",
      "{'first_name': 'Melissa', 'last_name': 'Sanders', 'email': 'paulaconrad@example.org', 'department': 'IT'}\n"
     ]
    }
   ],
   "source": [
    "# Connexion à MongoDB\n",
    "from pymongo import MongoClient\n",
    "\n",
    "client = MongoClient(\"mongodb://localhost:27017/\")\n",
    "db = client[\"company_db\"]\n",
    "collection = db[\"employees\"]\n",
    "\n",
    "def experience_based_filtering():\n",
    "    try:\n",
    "        query = {\n",
    "            \"$and\": [\n",
    "                {\"years_experience\": {\"$gte\": 5, \"$lte\": 10}},\n",
    "                {\"salary\": {\"$gte\": 70000, \"$lte\": 120000}}\n",
    "            ]\n",
    "        }\n",
    "        projection = {\"_id\": 0, \"first_name\": 1, \"last_name\": 1, \"email\": 1, \"department\": 1}\n",
    "        result = collection.find(query, projection).limit(3)\n",
    "        for doc in result:\n",
    "            print(doc)\n",
    "    except Exception as e:\n",
    "        print(f\"Error: {e}\")\n",
    "\n",
    "experience_based_filtering()"
   ]
  },
  {
   "cell_type": "markdown",
   "id": "3e1d50c3",
   "metadata": {},
   "source": [
    "## Task 3 : Salary Range Analasis"
   ]
  },
  {
   "cell_type": "code",
   "execution_count": 4,
   "id": "727b5f44",
   "metadata": {},
   "outputs": [
    {
     "name": "stdout",
     "output_type": "stream",
     "text": [
      "{'salary': 130687, 'years_experience': 9, 'full_name': 'Troy Holmes'}\n",
      "{'salary': 147200, 'years_experience': 12, 'full_name': 'Amber Collins'}\n",
      "{'salary': 121885, 'years_experience': 2, 'full_name': 'Nicole Doyle'}\n"
     ]
    }
   ],
   "source": [
    "# Connexion à MongoDB\n",
    "from pymongo import MongoClient\n",
    "\n",
    "client = MongoClient(\"mongodb://localhost:27017/\")\n",
    "db = client[\"company_db\"]\n",
    "collection = db[\"employees\"]\n",
    "\n",
    "def salary_range_analysis():\n",
    "    try:\n",
    "        query = {\n",
    "            \"salary\": {\"$not\": {\"$gte\": 60000, \"$lte\": 100000}}\n",
    "        }\n",
    "        # Utiliser $concat pour créer full_name dans une agrégation\n",
    "        pipeline = [\n",
    "            {\"$match\": query},\n",
    "            {\"$project\": {\n",
    "                \"_id\": 0,\n",
    "                \"full_name\": {\"$concat\": [\"$first_name\", \" \", \"$last_name\"]},\n",
    "                \"salary\": 1,\n",
    "                \"years_experience\": 1\n",
    "            }},\n",
    "            {\"$limit\": 3}\n",
    "        ]\n",
    "        result = collection.aggregate(pipeline)\n",
    "        for doc in result:\n",
    "            print(doc)\n",
    "    except Exception as e:\n",
    "        print(f\"Error: {e}\")\n",
    "\n",
    "salary_range_analysis()"
   ]
  },
  {
   "cell_type": "markdown",
   "id": "d5c604c3",
   "metadata": {},
   "source": [
    "## Task 4 : Recent Hires"
   ]
  },
  {
   "cell_type": "code",
   "execution_count": 5,
   "id": "fc281fc2",
   "metadata": {},
   "outputs": [
    {
     "name": "stdout",
     "output_type": "stream",
     "text": [
      "{'full_name': 'Troy Holmes', 'tenure_months': 6.647415524691358, 'annual_salary': 130687}\n",
      "{'full_name': 'Kristen Sanchez', 'tenure_months': 12.689292067901235, 'annual_salary': 88870}\n",
      "{'full_name': 'Aaron Ray', 'tenure_months': 3.361051327160494, 'annual_salary': 124024}\n"
     ]
    }
   ],
   "source": [
    "from pymongo import MongoClient\n",
    "\n",
    "client = MongoClient(\"mongodb://localhost:27017/\")\n",
    "db = client[\"company_db\"]\n",
    "collection = db[\"employees\"]\n",
    "\n",
    "from dateutil.relativedelta import relativedelta\n",
    "\n",
    "def recent_hires():\n",
    "    try:\n",
    "        two_years_ago = datetime.now() - relativedelta(years=2)\n",
    "        query = {\n",
    "            \"$and\": [\n",
    "                {\"hire_date\": {\"$gte\": two_years_ago}},\n",
    "                {\"performance_rating\": {\"$gt\": 3.5}}\n",
    "            ]\n",
    "        }\n",
    "        pipeline = [\n",
    "            {\"$match\": query},\n",
    "            {\"$project\": {\n",
    "                \"_id\": 0,\n",
    "                \"full_name\": {\"$concat\": [\"$first_name\", \" \", \"$last_name\"]},\n",
    "                \"tenure_months\": {\n",
    "                    \"$divide\": [\n",
    "                        {\"$subtract\": [datetime.now(), \"$hire_date\"]},\n",
    "                        1000 * 60 * 60 * 24 * 30  # Convertir millisecondes en mois\n",
    "                    ]\n",
    "                },\n",
    "                \"annual_salary\": \"$salary\"\n",
    "            }},\n",
    "            {\"$limit\": 3}\n",
    "        ]\n",
    "        result = collection.aggregate(pipeline)\n",
    "        for doc in result:\n",
    "            print(doc)\n",
    "    except Exception as e:\n",
    "        print(f\"Error: {e}\")\n",
    "\n",
    "recent_hires()"
   ]
  }
 ],
 "metadata": {
  "kernelspec": {
   "display_name": "clean_env",
   "language": "python",
   "name": "python3"
  },
  "language_info": {
   "codemirror_mode": {
    "name": "ipython",
    "version": 3
   },
   "file_extension": ".py",
   "mimetype": "text/x-python",
   "name": "python",
   "nbconvert_exporter": "python",
   "pygments_lexer": "ipython3",
   "version": "3.11.9"
  }
 },
 "nbformat": 4,
 "nbformat_minor": 5
}
